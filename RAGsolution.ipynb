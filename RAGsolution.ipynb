{
 "cells": [
  {
   "cell_type": "markdown",
   "id": "775aaaac",
   "metadata": {},
   "source": [
    "## Criando solução com RAG"
   ]
  },
  {
   "cell_type": "code",
   "execution_count": 2,
   "id": "244d764c",
   "metadata": {},
   "outputs": [
    {
     "name": "stderr",
     "output_type": "stream",
     "text": [
      "c:\\Users\\Deyvid\\ai-for-dev-rag\\venv\\Lib\\site-packages\\tqdm\\auto.py:21: TqdmWarning: IProgress not found. Please update jupyter and ipywidgets. See https://ipywidgets.readthedocs.io/en/stable/user_install.html\n",
      "  from .autonotebook import tqdm as notebook_tqdm\n"
     ]
    }
   ],
   "source": [
    "# Separar o documento em chunks\n",
    "from langchain_text_splitters import RecursiveCharacterTextSplitter\n",
    "# Embeddings gratuitos via Hugging Face\n",
    "from langchain.embeddings import HuggingFaceEmbeddings\n",
    "# LLM gratuito via Hugging Face\n",
    "from transformers import AutoTokenizer, AutoModelForCausalLM, pipeline\n",
    "from langchain_community.llms.huggingface_pipeline import HuggingFacePipeline\n",
    "# Banco de dados vetorial\n",
    "from langchain_community.vectorstores import Chroma\n",
    "# Carregar arquivos PDF\n",
    "from langchain_community.document_loaders import PyPDFLoader\n",
    "# Prompt\n",
    "from langchain.chains.question_answering import load_qa_chain"
   ]
  },
  {
   "cell_type": "code",
   "execution_count": 3,
   "id": "1a976565",
   "metadata": {},
   "outputs": [
    {
     "data": {
      "text/plain": [
       "True"
      ]
     },
     "execution_count": 3,
     "metadata": {},
     "output_type": "execute_result"
    }
   ],
   "source": [
    "from dotenv import load_dotenv\n",
    "import os\n",
    "\n",
    "load_dotenv()"
   ]
  },
  {
   "cell_type": "code",
   "execution_count": 4,
   "id": "2067f101",
   "metadata": {},
   "outputs": [],
   "source": [
    "## Chave API\n",
    "hf_token = os.getenv(\"HUGGINGFACEHUB_API_TOKEN\")"
   ]
  },
  {
   "cell_type": "markdown",
   "id": "5bc1dded",
   "metadata": {},
   "source": [
    "Load dos modelos (Embeddings e LLM)"
   ]
  },
  {
   "cell_type": "code",
   "execution_count": 5,
   "id": "f49689b1",
   "metadata": {},
   "outputs": [
    {
     "name": "stderr",
     "output_type": "stream",
     "text": [
      "Device set to use cpu\n",
      "C:\\Users\\Deyvid\\AppData\\Local\\Temp\\ipykernel_25320\\3812263793.py:17: LangChainDeprecationWarning: The class `HuggingFacePipeline` was deprecated in LangChain 0.0.37 and will be removed in 1.0. An updated version of the class exists in the :class:`~langchain-huggingface package and should be used instead. To use it run `pip install -U :class:`~langchain-huggingface` and import as `from :class:`~langchain_huggingface import HuggingFacePipeline``.\n",
      "  llm = HuggingFacePipeline(pipeline=hf_pipeline)\n"
     ]
    }
   ],
   "source": [
    "# Carregar tokenizer e modelo\n",
    "model_name = \"sshleifer/tiny-gpt2\"  # ou outro modelo de sua escolha\n",
    "tokenizer = AutoTokenizer.from_pretrained(model_name)\n",
    "model = AutoModelForCausalLM.from_pretrained(model_name)\n",
    "\n",
    "# Criar pipeline\n",
    "hf_pipeline = pipeline(\n",
    "    task=\"text-generation\",\n",
    "    model=model,\n",
    "    tokenizer=tokenizer,\n",
    "    max_length=512,\n",
    "    temperature=0.7,\n",
    "    do_sample=True,\n",
    ")\n",
    "\n",
    "# Integrar com LangChain\n",
    "llm = HuggingFacePipeline(pipeline=hf_pipeline)"
   ]
  },
  {
   "cell_type": "markdown",
   "id": "365d3be4",
   "metadata": {},
   "source": [
    "Carregar o arquivo (PDF)"
   ]
  },
  {
   "cell_type": "code",
   "execution_count": 6,
   "id": "2a01dedd",
   "metadata": {},
   "outputs": [],
   "source": [
    "pdf_link = \"datasets/remuneracao_docentes_UF_2020.pdf\"\n",
    "\n",
    "loader = PyPDFLoader(pdf_link, extract_images=False)\n",
    "pages = loader.load_and_split()"
   ]
  },
  {
   "cell_type": "markdown",
   "id": "8e536158",
   "metadata": {},
   "source": [
    "Separar em Chunks (separar o conteúdo do arquivo em pequenas partes)"
   ]
  },
  {
   "cell_type": "code",
   "execution_count": 7,
   "id": "45fb7cdb",
   "metadata": {},
   "outputs": [],
   "source": [
    "text_splitter = RecursiveCharacterTextSplitter(\n",
    "  chunk_size = 4000,\n",
    "  chunk_overlap = 20,\n",
    "  length_function = len,\n",
    "  add_start_index = True,\n",
    ")\n",
    "\n",
    "chunks = text_splitter.split_documents(pages)"
   ]
  },
  {
   "cell_type": "markdown",
   "id": "d8c8cc35",
   "metadata": {},
   "source": [
    "Salvar no Vector DB"
   ]
  },
  {
   "cell_type": "code",
   "execution_count": 8,
   "id": "1c2e6f82",
   "metadata": {},
   "outputs": [
    {
     "name": "stderr",
     "output_type": "stream",
     "text": [
      "C:\\Users\\Deyvid\\AppData\\Local\\Temp\\ipykernel_25320\\1547133016.py:2: LangChainDeprecationWarning: The class `HuggingFaceEmbeddings` was deprecated in LangChain 0.2.2 and will be removed in 1.0. An updated version of the class exists in the :class:`~langchain-huggingface package and should be used instead. To use it run `pip install -U :class:`~langchain-huggingface` and import as `from :class:`~langchain_huggingface import HuggingFaceEmbeddings``.\n",
      "  embeddings_model = HuggingFaceEmbeddings(model_name=\"sentence-transformers/all-MiniLM-L6-v2\")\n",
      "c:\\Users\\Deyvid\\ai-for-dev-rag\\venv\\Lib\\site-packages\\huggingface_hub\\file_download.py:144: UserWarning: `huggingface_hub` cache-system uses symlinks by default to efficiently store duplicated files but your machine does not support them in C:\\Users\\Deyvid\\.cache\\huggingface\\hub\\models--sentence-transformers--all-MiniLM-L6-v2. Caching files will still work but in a degraded version that might require more space on your disk. This warning can be disabled by setting the `HF_HUB_DISABLE_SYMLINKS_WARNING` environment variable. For more details, see https://huggingface.co/docs/huggingface_hub/how-to-cache#limitations.\n",
      "To support symlinks on Windows, you either need to activate Developer Mode or to run Python as an administrator. In order to activate developer mode, see this article: https://docs.microsoft.com/en-us/windows/apps/get-started/enable-your-device-for-development\n",
      "  warnings.warn(message)\n",
      "Xet Storage is enabled for this repo, but the 'hf_xet' package is not installed. Falling back to regular HTTP download. For better performance, install the package with: `pip install huggingface_hub[hf_xet]` or `pip install hf_xet`\n",
      "C:\\Users\\Deyvid\\AppData\\Local\\Temp\\ipykernel_25320\\1547133016.py:5: LangChainDeprecationWarning: Since Chroma 0.4.x the manual persistence method is no longer supported as docs are automatically persisted.\n",
      "  db.persist()\n"
     ]
    }
   ],
   "source": [
    "# Criar modelo de embeddings\n",
    "embeddings_model = HuggingFaceEmbeddings(model_name=\"sentence-transformers/all-MiniLM-L6-v2\")\n",
    "\n",
    "db = Chroma.from_documents(chunks, embedding=embeddings_model, persist_directory=\"text_index\")\n",
    "db.persist()"
   ]
  }
 ],
 "metadata": {
  "kernelspec": {
   "display_name": "venv",
   "language": "python",
   "name": "python3"
  },
  "language_info": {
   "codemirror_mode": {
    "name": "ipython",
    "version": 3
   },
   "file_extension": ".py",
   "mimetype": "text/x-python",
   "name": "python",
   "nbconvert_exporter": "python",
   "pygments_lexer": "ipython3",
   "version": "3.13.2"
  }
 },
 "nbformat": 4,
 "nbformat_minor": 5
}
