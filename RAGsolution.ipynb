{
 "cells": [
  {
   "cell_type": "markdown",
   "id": "775aaaac",
   "metadata": {},
   "source": [
    "## Criando solução com RAG"
   ]
  },
  {
   "cell_type": "code",
   "execution_count": 15,
   "id": "244d764c",
   "metadata": {},
   "outputs": [],
   "source": [
    "# Separar o documento em chunks\n",
    "from langchain_text_splitters import RecursiveCharacterTextSplitter\n",
    "# Embeddings\n",
    "from langchain_openai import OpenAIEmbeddings\n",
    "# LLM\n",
    "from langchain_openai import ChatOpenAI\n",
    "# Banco de dados vetorial\n",
    "from langchain_community.vectorstores import Chroma\n",
    "# Carregar arquivos PDF\n",
    "from langchain_community.document_loaders import PyPDFLoader\n",
    "# Prompt\n",
    "from langchain.chains.question_answering import load_qa_chain"
   ]
  },
  {
   "cell_type": "code",
   "execution_count": 16,
   "id": "1a976565",
   "metadata": {},
   "outputs": [],
   "source": [
    "import os"
   ]
  },
  {
   "cell_type": "code",
   "execution_count": 17,
   "id": "2067f101",
   "metadata": {},
   "outputs": [],
   "source": [
    "## Chave API"
   ]
  },
  {
   "cell_type": "markdown",
   "id": "5bc1dded",
   "metadata": {},
   "source": [
    "Load dos modelos (Embeddings e LLM)"
   ]
  },
  {
   "cell_type": "code",
   "execution_count": 18,
   "id": "f49689b1",
   "metadata": {},
   "outputs": [],
   "source": [
    "embeddings_model = OpenAIEmbeddings()\n",
    "llm = ChatOpenAI(model_name= \"gpt-3.5-turbo\", max_tokens = 200)"
   ]
  },
  {
   "cell_type": "markdown",
   "id": "365d3be4",
   "metadata": {},
   "source": [
    "Carregar o arquivo (PDF)"
   ]
  },
  {
   "cell_type": "code",
   "execution_count": 19,
   "id": "2a01dedd",
   "metadata": {},
   "outputs": [],
   "source": [
    "pdf_link = \"datasets/remuneracao_docentes_UF_2020.pdf\"\n",
    "\n",
    "loader = PyPDFLoader(pdf_link, extract_images=False)\n",
    "pages = loader.load_and_split()"
   ]
  },
  {
   "cell_type": "markdown",
   "id": "8e536158",
   "metadata": {},
   "source": [
    "Separar em Chunks (separar o conteúdo do arquivo em pequenas partes)"
   ]
  },
  {
   "cell_type": "code",
   "execution_count": 20,
   "id": "45fb7cdb",
   "metadata": {},
   "outputs": [],
   "source": [
    "text_splitter = RecursiveCharacterTextSplitter(\n",
    "  chunk_size = 4000,\n",
    "  chunk_overlap = 20,\n",
    "  length_function = len,\n",
    "  add_start_index = True,\n",
    ")\n",
    "\n",
    "chunks = text_splitter.split_documents(pages)"
   ]
  },
  {
   "cell_type": "markdown",
   "id": "d8c8cc35",
   "metadata": {},
   "source": [
    "Salvar no Vector DB"
   ]
  },
  {
   "cell_type": "code",
   "execution_count": null,
   "id": "1c2e6f82",
   "metadata": {},
   "outputs": [],
   "source": [
    "db = Chroma.from_documents(chunks, embedding=embeddings_model, persist_directory=\"text_index\")\n",
    "db.persist()"
   ]
  }
 ],
 "metadata": {
  "language_info": {
   "name": "python"
  }
 },
 "nbformat": 4,
 "nbformat_minor": 5
}
